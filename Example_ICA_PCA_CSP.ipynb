{
 "cells": [
  {
   "cell_type": "code",
   "execution_count": 1,
   "metadata": {},
   "outputs": [],
   "source": [
    "import os\n",
    "import numpy as np\n",
    "import mne\n",
    "\n",
    "from repo import SubjectData"
   ]
  },
  {
   "cell_type": "code",
   "execution_count": 32,
   "metadata": {},
   "outputs": [],
   "source": [
    "os.environ[\"TASK\"] = 'baseline'\n",
    "os.environ[\"MAT\"] = 's44'"
   ]
  },
  {
   "cell_type": "code",
   "execution_count": 33,
   "metadata": {},
   "outputs": [],
   "source": [
    "import logging\n",
    "logging.basicConfig(filename=f'logs/{os.environ[\"TASK\"]}.log', level=logging.DEBUG)"
   ]
  },
  {
   "cell_type": "code",
   "execution_count": 34,
   "metadata": {
    "scrolled": false
   },
   "outputs": [
    {
     "name": "stdout",
     "output_type": "stream",
     "text": [
      "Creating RawArray with float64 data, n_channels=69, n_times=358400\n",
      "    Range : 0 ... 358399 =      0.000 ...   699.998 secs\n",
      "Ready.\n",
      "Creating RawArray with float64 data, n_channels=69, n_times=358400\n",
      "    Range : 0 ... 358399 =      0.000 ...   699.998 secs\n",
      "Ready.\n",
      "Creating RawArray with float64 data, n_channels=69, n_times=71680\n",
      "    Range : 0 ... 71679 =      0.000 ...   139.998 secs\n",
      "Ready.\n",
      "Creating RawArray with float64 data, n_channels=69, n_times=71680\n",
      "    Range : 0 ... 71679 =      0.000 ...   139.998 secs\n",
      "Ready.\n",
      "Creating RawArray with float64 data, n_channels=68, n_times=33920\n",
      "    Range : 0 ... 33919 =      0.000 ...    66.248 secs\n",
      "Ready.\n",
      "Creating RawArray with float64 data, n_channels=68, n_times=5120\n",
      "    Range : 0 ... 5119 =      0.000 ...     9.998 secs\n",
      "Ready.\n",
      "Creating RawArray with float64 data, n_channels=68, n_times=5120\n",
      "    Range : 0 ... 5119 =      0.000 ...     9.998 secs\n",
      "Ready.\n",
      "Creating RawArray with float64 data, n_channels=68, n_times=5120\n",
      "    Range : 0 ... 5119 =      0.000 ...     9.998 secs\n",
      "Ready.\n",
      "Creating RawArray with float64 data, n_channels=68, n_times=5120\n",
      "    Range : 0 ... 5119 =      0.000 ...     9.998 secs\n",
      "Ready.\n",
      "Creating RawArray with float64 data, n_channels=68, n_times=5120\n",
      "    Range : 0 ... 5119 =      0.000 ...     9.998 secs\n",
      "Ready.\n"
     ]
    }
   ],
   "source": [
    "sd = SubjectData(f'data/{os.environ[\"MAT\"]}')\n",
    "logging.info(f'File: {os.environ[\"MAT\"]}')"
   ]
  },
  {
   "cell_type": "code",
   "execution_count": 35,
   "metadata": {},
   "outputs": [
    {
     "name": "stdout",
     "output_type": "stream",
     "text": [
      "Creating RawArray with float64 data, n_channels=68, n_times=919680\n",
      "    Range : 0 ... 919679 =      0.000 ...  1796.248 secs\n",
      "Ready.\n"
     ]
    },
    {
     "data": {
      "text/plain": [
       "<RawArray | 68 x 919680 (1796.2 s), ~477.3 MB, data loaded>"
      ]
     },
     "execution_count": 35,
     "metadata": {},
     "output_type": "execute_result"
    }
   ],
   "source": [
    "mat_all = np.hstack(\n",
    "    list(sd.mat_noise) + [\n",
    "        sd.mat_rest, \n",
    "        sd.mat_movement_left, \n",
    "        sd.mat_movement_right, \n",
    "        sd.mat_imagery_left, \n",
    "        sd.mat_imagery_right])\n",
    "raw_all = mne.io.RawArray(mat_all, sd.raw_rest.info)\n",
    "raw_all.set_montage(sd.raw_rest.get_montage())"
   ]
  },
  {
   "cell_type": "code",
   "execution_count": 36,
   "metadata": {},
   "outputs": [
    {
     "name": "stdout",
     "output_type": "stream",
     "text": [
      "Fitting ICA to data using 64 channels (please be patient, this may take a while)\n",
      "Inferring max_pca_components from picks\n",
      "Selecting by number: 20 components\n",
      "Fitting ICA took 41.4s.\n"
     ]
    },
    {
     "data": {
      "text/plain": [
       "<ICA | raw data decomposition, fit (fastica): 919680 samples, 20 components, channels used: \"eeg\">"
      ]
     },
     "execution_count": 36,
     "metadata": {},
     "output_type": "execute_result"
    }
   ],
   "source": [
    "ica = mne.preprocessing.ICA(n_components=20, random_state=97, max_iter=800)\n",
    "ica.fit(raw_all)"
   ]
  },
  {
   "cell_type": "code",
   "execution_count": 37,
   "metadata": {},
   "outputs": [],
   "source": [
    "tmin = -1\n",
    "tmax = 4\n",
    "reject_criteria = {'eeg': 350e-6}       # 150 µV The default from the overview tutorial\n",
    "filter_freqs = (7, 30)\n",
    "filter_props = dict(picks=['eeg'], fir_design='firwin', skip_by_annotation='edge')"
   ]
  },
  {
   "cell_type": "code",
   "execution_count": 38,
   "metadata": {
    "scrolled": false
   },
   "outputs": [
    {
     "name": "stdout",
     "output_type": "stream",
     "text": [
      "100 events found\n",
      "Event IDs: [1]\n",
      "Not setting metadata\n",
      "Not setting metadata\n",
      "100 matching events found\n",
      "Applying baseline correction (mode: mean)\n",
      "0 projection items activated\n",
      "Loading data for 100 events and 2561 original time points ...\n",
      "0 bad epochs dropped\n",
      "Setting up band-pass filter from 7 - 30 Hz\n",
      "\n",
      "FIR filter parameters\n",
      "---------------------\n",
      "Designing a one-pass, zero-phase, non-causal bandpass filter:\n",
      "- Windowed time-domain design (firwin) method\n",
      "- Hamming window with 0.0194 passband ripple and 53 dB stopband attenuation\n",
      "- Lower passband edge: 7.00\n",
      "- Lower transition bandwidth: 2.00 Hz (-6 dB cutoff frequency: 6.00 Hz)\n",
      "- Upper passband edge: 30.00 Hz\n",
      "- Upper transition bandwidth: 7.50 Hz (-6 dB cutoff frequency: 33.75 Hz)\n",
      "- Filter length: 845 samples (1.650 sec)\n",
      "\n",
      "0 bad epochs dropped\n",
      "100 events found\n",
      "Event IDs: [1]\n",
      "Not setting metadata\n",
      "Not setting metadata\n",
      "100 matching events found\n",
      "Applying baseline correction (mode: mean)\n",
      "0 projection items activated\n",
      "Loading data for 100 events and 2561 original time points ...\n",
      "0 bad epochs dropped\n",
      "Setting up band-pass filter from 7 - 30 Hz\n",
      "\n",
      "FIR filter parameters\n",
      "---------------------\n",
      "Designing a one-pass, zero-phase, non-causal bandpass filter:\n",
      "- Windowed time-domain design (firwin) method\n",
      "- Hamming window with 0.0194 passband ripple and 53 dB stopband attenuation\n",
      "- Lower passband edge: 7.00\n",
      "- Lower transition bandwidth: 2.00 Hz (-6 dB cutoff frequency: 6.00 Hz)\n",
      "- Upper passband edge: 30.00 Hz\n",
      "- Upper transition bandwidth: 7.50 Hz (-6 dB cutoff frequency: 33.75 Hz)\n",
      "- Filter length: 845 samples (1.650 sec)\n",
      "\n",
      "    Rejecting  epoch based on EEG : ['FT7', 'FC3', 'T7']\n",
      "1 bad epochs dropped\n"
     ]
    }
   ],
   "source": [
    "imagery_events = mne.find_events(sd.raw_imagery_left, stim_channel=sd.stim_channel)\n",
    "im_left_epochs = mne.Epochs(\n",
    "    sd.raw_imagery_left, imagery_events, tmin=tmin, tmax=tmax, preload=True\n",
    ").filter(*filter_freqs, **filter_props).drop_bad(reject_criteria)\n",
    "imagery_events = mne.find_events(sd.raw_imagery_right, stim_channel=sd.stim_channel)\n",
    "im_right_epochs = mne.Epochs(\n",
    "    sd.raw_imagery_right, imagery_events, tmin=tmin, tmax=tmax,preload=True\n",
    ").filter(*filter_freqs, **filter_props).drop_bad(reject_criteria)"
   ]
  },
  {
   "cell_type": "code",
   "execution_count": 39,
   "metadata": {},
   "outputs": [],
   "source": [
    "from sklearn import datasets\n",
    "from sklearn.discriminant_analysis import LinearDiscriminantAnalysis\n",
    "from sklearn.model_selection import ShuffleSplit, cross_val_score\n",
    "from sklearn.pipeline import Pipeline\n",
    "from sklearn.decomposition import PCA\n",
    "\n",
    "from mne.decoding import CSP, UnsupervisedSpatialFilter"
   ]
  },
  {
   "cell_type": "code",
   "execution_count": 40,
   "metadata": {},
   "outputs": [
    {
     "name": "stdout",
     "output_type": "stream",
     "text": [
      "Left Imagery Data Shape: (100, 20, 2561)\n",
      "Right Imagery Data Shape: (99, 20, 2561)\n"
     ]
    }
   ],
   "source": [
    "#im_left_epochs = im_left_epochs#.copy().crop(tmin=1., tmax=2.)   # Not sure why the guy cropped this\n",
    "# im_left_data = im_left_epochs.copy().pick_types(eeg=True)\n",
    "# im_right_data = im_right_epochs.copy().pick_types(eeg=True)\n",
    "im_left_data = ica.get_sources(im_left_epochs)\n",
    "im_right_data = ica.get_sources(im_right_epochs)\n",
    "im_left_labels = im_left_epochs.events[:, -1] - 1   # Label: 0\n",
    "im_right_labels = im_right_epochs.events[:, -1]     # Label: 1\n",
    "\n",
    "im_data = np.vstack((im_left_data.get_data(), im_right_data.get_data()))\n",
    "im_labels = np.hstack((im_left_labels, im_right_labels))\n",
    "\n",
    "print('Left Imagery Data Shape:', im_left_data.get_data().shape)\n",
    "print('Right Imagery Data Shape:', im_right_data.get_data().shape)\n",
    "logging.info(f'Left Imagery Data Shape: {im_left_data.get_data().shape}')\n",
    "logging.info(f'Right Imagery Data Shape: {im_right_data.get_data().shape}')"
   ]
  },
  {
   "cell_type": "code",
   "execution_count": 41,
   "metadata": {},
   "outputs": [],
   "source": [
    "im_data = UnsupervisedSpatialFilter(PCA()).fit_transform(im_data)"
   ]
  },
  {
   "cell_type": "code",
   "execution_count": 42,
   "metadata": {},
   "outputs": [],
   "source": [
    "cv = ShuffleSplit(10, test_size=0.2, random_state=42)\n",
    "lda = LinearDiscriminantAnalysis()\n",
    "csp = CSP(n_components=4, reg=None, log=True, norm_trace=False)\n",
    "\n",
    "clf = Pipeline([('CSP', csp), ('LDA', lda)])\n",
    "scores = cross_val_score(clf, im_data, im_labels, cv=cv, n_jobs=8)\n",
    "\n",
    "class_balance = np.mean(im_labels == im_labels[0])\n",
    "class_balance = max(class_balance, 1. - class_balance)"
   ]
  },
  {
   "cell_type": "code",
   "execution_count": 43,
   "metadata": {},
   "outputs": [
    {
     "name": "stdout",
     "output_type": "stream",
     "text": [
      "Classification accuracy: 0.7125\n",
      "Class balance: 0.5025125628140703\n"
     ]
    }
   ],
   "source": [
    "print(\"Classification accuracy:\", np.mean(scores))\n",
    "print(\"Class balance:\", class_balance)\n",
    "logging.info(f\"Classification scores: {list(scores)}\")\n",
    "logging.info(f\"Classification accuracy: {np.mean(scores)}\")\n",
    "logging.info(f\"Class balance: {class_balance}\")"
   ]
  }
 ],
 "metadata": {
  "kernelspec": {
   "display_name": "Python 3",
   "language": "python",
   "name": "python3"
  },
  "language_info": {
   "codemirror_mode": {
    "name": "ipython",
    "version": 3
   },
   "file_extension": ".py",
   "mimetype": "text/x-python",
   "name": "python",
   "nbconvert_exporter": "python",
   "pygments_lexer": "ipython3",
   "version": "3.8.5"
  }
 },
 "nbformat": 4,
 "nbformat_minor": 4
}
