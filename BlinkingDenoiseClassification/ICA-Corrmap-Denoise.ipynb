{
 "cells": [
  {
   "cell_type": "code",
   "execution_count": 1,
   "metadata": {},
   "outputs": [],
   "source": [
    "import os\n",
    "import numpy as np\n",
    "import matplotlib.pyplot as plt\n",
    "import mne\n",
    "from mne.preprocessing import ICA\n",
    "from mne import concatenate_epochs\n",
    "from mne.preprocessing import find_eog_events\n",
    "from mne.preprocessing import corrmap\n",
    "import pickle as pkl\n",
    "\n",
    "from Cho2017 import SubjectData\n",
    "\n",
    "pickle_cache_dir = 'denoise_classify_data'\n",
    "subject_data_pickle_path = lambda n: os.path.join(pickle_cache_dir, 'data_{}.pkl'.format(n))\n",
    "subject_ica_pickle_path = lambda n: os.path.join(pickle_cache_dir, 'ica_{}.pkl'.format(n))\n",
    "\n",
    "\n",
    "plt.rcParams['figure.figsize'] = [12, 8]\n",
    "\n",
    "# # Make sure ipympl is installed (via pip) for interactive plots in Jupyter \n",
    "# %matplotlib widget"
   ]
  },
  {
   "cell_type": "code",
   "execution_count": 2,
   "metadata": {},
   "outputs": [],
   "source": [
    "ICA_SEED = 97 # Just some random seed\n",
    "CORRMAP_THRESH = 0.9\n",
    "n_ica_comps = 64\n",
    "n_template_ica_comps = 10"
   ]
  },
  {
   "cell_type": "code",
   "execution_count": 3,
   "metadata": {},
   "outputs": [
    {
     "name": "stdout",
     "output_type": "stream",
     "text": [
      "\n",
      "\n",
      "========================================\n",
      "Subject 49\n",
      "========================================\n",
      "Loading denoise_classify_data/data_49.pkl\n",
      "100 events found\n",
      "Event IDs: [1]\n"
     ]
    },
    {
     "name": "stderr",
     "output_type": "stream",
     "text": [
      "/mnt/Projects/mlsp/18-797_Semester_Project/Cho2017.py:157: RuntimeWarning: filter_length (1691) is longer than the signal (1281), distortion is likely. Reduce filter length or filter a longer signal.\n",
      "  epoch = epoch.filter(*filter_freqs, **filter_props)\n"
     ]
    },
    {
     "name": "stdout",
     "output_type": "stream",
     "text": [
      "100 events found\n",
      "Event IDs: [1]\n"
     ]
    },
    {
     "name": "stderr",
     "output_type": "stream",
     "text": [
      "/mnt/Projects/mlsp/18-797_Semester_Project/Cho2017.py:157: RuntimeWarning: filter_length (1691) is longer than the signal (1281), distortion is likely. Reduce filter length or filter a longer signal.\n",
      "  epoch = epoch.filter(*filter_freqs, **filter_props)\n"
     ]
    },
    {
     "name": "stdout",
     "output_type": "stream",
     "text": [
      "Loading denoise_classify_data/ica_49.pkl\n",
      "Using channel FP1 as EOG channel\n",
      "EOG channel index for this subject is: [0]\n",
      "Filtering the data to remove DC offset to help distinguish blinks from saccades\n",
      "Setting up band-pass filter from 1 - 10 Hz\n",
      "\n",
      "FIR filter parameters\n",
      "---------------------\n",
      "Designing a two-pass forward and reverse, zero-phase, non-causal bandpass filter:\n",
      "- Windowed frequency-domain design (firwin2) method\n",
      "- Hann window\n",
      "- Lower passband edge: 1.00\n",
      "- Lower transition bandwidth: 0.50 Hz (-12 dB cutoff frequency: 0.75 Hz)\n",
      "- Upper passband edge: 10.00 Hz\n",
      "- Upper transition bandwidth: 0.50 Hz (-12 dB cutoff frequency: 10.25 Hz)\n",
      "- Filter length: 2561 samples (5.002 sec)\n",
      "\n",
      "Now detecting blinks and generating corresponding events\n",
      "Found 6 significant peaks\n",
      "Number of EOG events detected : 6\n",
      "Using channel FP1 as EOG channel\n",
      "EOG channel index for this subject is: [0]\n",
      "Filtering the data to remove DC offset to help distinguish blinks from saccades\n",
      "Setting up band-pass filter from 1 - 10 Hz\n",
      "\n",
      "FIR filter parameters\n",
      "---------------------\n",
      "Designing a two-pass forward and reverse, zero-phase, non-causal bandpass filter:\n",
      "- Windowed frequency-domain design (firwin2) method\n",
      "- Hann window\n",
      "- Lower passband edge: 1.00\n",
      "- Lower transition bandwidth: 0.50 Hz (-12 dB cutoff frequency: 0.75 Hz)\n",
      "- Upper passband edge: 10.00 Hz\n",
      "- Upper transition bandwidth: 0.50 Hz (-12 dB cutoff frequency: 10.25 Hz)\n",
      "- Filter length: 2560 samples (5.000 sec)\n",
      "\n",
      "Now detecting blinks and generating corresponding events\n",
      "Found 6 significant peaks\n",
      "Number of EOG events detected : 6\n",
      "Not setting metadata\n",
      "Not setting metadata\n",
      "6 matching events found\n",
      "Applying baseline correction (mode: mean)\n",
      "0 projection items activated\n",
      "Loading data for 6 events and 257 original time points ...\n",
      "1 bad epochs dropped\n",
      "Setting up high-pass filter at 1 Hz\n",
      "\n",
      "FIR filter parameters\n",
      "---------------------\n",
      "Designing a one-pass, zero-phase, non-causal highpass filter:\n",
      "- Windowed time-domain design (firwin) method\n",
      "- Hamming window with 0.0194 passband ripple and 53 dB stopband attenuation\n",
      "- Lower passband edge: 1.00\n",
      "- Lower transition bandwidth: 1.00 Hz (-6 dB cutoff frequency: 0.50 Hz)\n",
      "- Filter length: 1691 samples (3.303 sec)\n",
      "\n",
      "Not setting metadata\n",
      "Not setting metadata\n",
      "6 matching events found\n",
      "Applying baseline correction (mode: mean)\n",
      "0 projection items activated\n",
      "Loading data for 6 events and 257 original time points ...\n",
      "0 bad epochs dropped\n",
      "Setting up high-pass filter at 1 Hz\n",
      "\n",
      "FIR filter parameters\n",
      "---------------------\n",
      "Designing a one-pass, zero-phase, non-causal highpass filter:\n",
      "- Windowed time-domain design (firwin) method\n",
      "- Hamming window with 0.0194 passband ripple and 53 dB stopband attenuation\n",
      "- Lower passband edge: 1.00\n",
      "- Lower transition bandwidth: 1.00 Hz (-6 dB cutoff frequency: 0.50 Hz)\n",
      "- Filter length: 1691 samples (3.303 sec)\n",
      "\n",
      "Not setting metadata\n",
      "Not setting metadata\n",
      "11 matching events found\n",
      "Applying baseline correction (mode: mean)\n",
      "0 bad epochs dropped\n",
      "Fitting ICA to data using 64 channels (please be patient, this may take a while)\n",
      "Inferring max_pca_components from picks\n",
      "Selecting by number: 64 components\n"
     ]
    },
    {
     "name": "stderr",
     "output_type": "stream",
     "text": [
      "<ipython-input-3-f7c8e4b48677>:67: RuntimeWarning: filter_length (1691) is longer than the signal (257), distortion is likely. Reduce filter length or filter a longer signal.\n",
      "  trial0_blink_epochs = mne.Epochs(blinking[0], trial0_blink_events, tmin=tmin, tmax=tmax, baseline=(tmin, tmin+baseline_toffset), reject=None, preload=True).filter(*filter_freqs, **filter_props)\n",
      "<ipython-input-3-f7c8e4b48677>:68: RuntimeWarning: filter_length (1691) is longer than the signal (257), distortion is likely. Reduce filter length or filter a longer signal.\n",
      "  trial1_blink_epochs = mne.Epochs(blinking[1], trial1_blink_events, tmin=tmin, tmax=tmax, baseline=(tmin, tmin+baseline_toffset), reject=None, preload=True).filter(*filter_freqs, **filter_props)\n"
     ]
    },
    {
     "name": "stdout",
     "output_type": "stream",
     "text": [
      "Fitting ICA took 2.3s.\n",
      "No component detected using when z-scoring threshold [0.9], consider using a more lenient threshold\n",
      "No component detected using when z-scoring threshold [0.9], consider using a more lenient threshold\n",
      "No component detected using when z-scoring threshold [0.9], consider using a more lenient threshold\n",
      "No component detected using when z-scoring threshold [0.9], consider using a more lenient threshold\n",
      "No component detected using when z-scoring threshold [0.9], consider using a more lenient threshold\n",
      "No component detected using when z-scoring threshold [0.9], consider using a more lenient threshold\n",
      "No component detected using when z-scoring threshold [0.9], consider using a more lenient threshold\n",
      "No component detected using when z-scoring threshold [0.9], consider using a more lenient threshold\n",
      "No component detected using when z-scoring threshold [0.9], consider using a more lenient threshold\n",
      "No component detected using when z-scoring threshold [0.9], consider using a more lenient threshold\n"
     ]
    },
    {
     "ename": "KeyError",
     "evalue": "'test'",
     "output_type": "error",
     "traceback": [
      "\u001b[0;31m---------------------------------------------------------------------------\u001b[0m",
      "\u001b[0;31mKeyError\u001b[0m                                  Traceback (most recent call last)",
      "\u001b[0;32m<ipython-input-3-f7c8e4b48677>\u001b[0m in \u001b[0;36m<module>\u001b[0;34m\u001b[0m\n\u001b[1;32m     89\u001b[0m             \u001b[0mprint\u001b[0m\u001b[0;34m(\u001b[0m\u001b[0me\u001b[0m\u001b[0;34m)\u001b[0m\u001b[0;34m\u001b[0m\u001b[0;34m\u001b[0m\u001b[0m\n\u001b[1;32m     90\u001b[0m \u001b[0;34m\u001b[0m\u001b[0m\n\u001b[0;32m---> 91\u001b[0;31m     \u001b[0mprint\u001b[0m\u001b[0;34m(\u001b[0m\u001b[0mica_joint\u001b[0m\u001b[0;34m.\u001b[0m\u001b[0mlabels_\u001b[0m\u001b[0;34m[\u001b[0m\u001b[0;34m'test'\u001b[0m\u001b[0;34m]\u001b[0m\u001b[0;34m)\u001b[0m\u001b[0;34m\u001b[0m\u001b[0;34m\u001b[0m\u001b[0m\n\u001b[0m\u001b[1;32m     92\u001b[0m     \u001b[0mica_joint\u001b[0m\u001b[0;34m.\u001b[0m\u001b[0mplot_components\u001b[0m\u001b[0;34m(\u001b[0m\u001b[0mpicks\u001b[0m\u001b[0;34m=\u001b[0m\u001b[0mica_joint\u001b[0m\u001b[0;34m.\u001b[0m\u001b[0mlabels_\u001b[0m\u001b[0;34m[\u001b[0m\u001b[0;34m'test'\u001b[0m\u001b[0;34m]\u001b[0m\u001b[0;34m)\u001b[0m\u001b[0;34m;\u001b[0m\u001b[0;34m\u001b[0m\u001b[0;34m\u001b[0m\u001b[0m\n\u001b[1;32m     93\u001b[0m     \u001b[0mexclude_ica_components\u001b[0m\u001b[0;34m[\u001b[0m\u001b[0msubj_n\u001b[0m\u001b[0;34m]\u001b[0m \u001b[0;34m=\u001b[0m \u001b[0mica_joint\u001b[0m\u001b[0;34m.\u001b[0m\u001b[0mlabels_\u001b[0m\u001b[0;34m[\u001b[0m\u001b[0;34m'test'\u001b[0m\u001b[0;34m]\u001b[0m\u001b[0;34m\u001b[0m\u001b[0;34m\u001b[0m\u001b[0m\n",
      "\u001b[0;31mKeyError\u001b[0m: 'test'"
     ]
    }
   ],
   "source": [
    "exclude_ica_components = {}\n",
    "\n",
    "for subj_n in range(1, 53):\n",
    "    print(\"\\n\\n========================================\")\n",
    "    print('Subject {:02d}'.format(subj_n))\n",
    "    print(\"========================================\")\n",
    "    if os.path.exists(subject_data_pickle_path(subj_n)):\n",
    "        with open(subject_data_pickle_path(subj_n), 'rb') as f:\n",
    "            print('Loading', subject_data_pickle_path(subj_n))\n",
    "            subject = pkl.load(f)\n",
    "    else:\n",
    "        subject = SubjectData('Cho2017-Data/s{:02d}.mat'.format(subj_n))\n",
    "        with open(subject_data_pickle_path(subj_n), 'wb') as f:\n",
    "            print('Reading', subject_datapickle_path(subj_n))\n",
    "            pkl.dump(subject, f)\n",
    "    \n",
    "    im_left_epochs = subject.get_epochs('imagery_left', tmin=-0.5, tmax=2, picks=['eeg'], filter_freqs=(1, None), reject_criteria=None, verbose=False)\n",
    "    im_right_epochs = subject.get_epochs('imagery_right', tmin=-0.5, tmax=2, picks=['eeg'], filter_freqs=(1, None), reject_criteria=None, verbose=False)\n",
    "    \n",
    "    \n",
    "    \n",
    "    ############################################################\n",
    "    # \n",
    "    # Get motor imagery ICA components \n",
    "    #\n",
    "    ############################################################\n",
    "    joint_im_epochs = mne.concatenate_epochs([im_left_epochs.copy(), im_right_epochs.copy()], add_offset=True)\n",
    "    labels = np.hstack((im_left_epochs.events[:, -1] - 1, im_right_epochs.events[:, -1]))  # Set left events to 0 to have 2 distinct class labels (left: 0 and right: 1)\n",
    "    \n",
    "    if os.path.exists(subject_ica_pickle_path(subj_n)):\n",
    "        with open(subject_ica_pickle_path(subj_n), 'rb') as f:\n",
    "            print('Loading', subject_ica_pickle_path(subj_n))\n",
    "            ica_joint = pkl.load(f)\n",
    "    else:\n",
    "        ica_joint = mne.preprocessing.ICA(n_components=n_ica_comps, random_state=ICA_SEED, max_iter=1000)\n",
    "        ica_joint.fit(joint_im_epochs)\n",
    "        with open(subject_ica_pickle_path(subj_n), 'wb') as f:\n",
    "            print('Writing', subject_ica_pickle_path(subj_n))\n",
    "            pkl.dump(ica_joint, f)\n",
    "\n",
    "    \n",
    "    # ica_joint.plot_components();\n",
    "    \n",
    "    \n",
    "    ############################################################\n",
    "    # \n",
    "    # Get blinking artifact ICA components \n",
    "    #\n",
    "    ############################################################\n",
    "    picks = ['FP1', 'FPZ', 'FP2', 'F3', 'F4'] # None / ['eeg'] for first 20 channels or list of channel names for those specified channels\n",
    "\n",
    "    # Since blinking is performed in 2x 5s trials, it's possible the discontinuity at the trial boundary may be falsely marked as an EOG\n",
    "    blinking = [subject.raw_noise['blinking'].copy().crop(tmin=0, tmax=5), subject.raw_noise['blinking'].copy().crop(tmin=5, tmax=None)]\n",
    "    # blinking[0].copy().pick(picks).plot();\n",
    "    # blinking[1].copy().pick(picks).plot();\n",
    "\n",
    "    find_eog_ch = 'FP1'\n",
    "    tmin = -0.25\n",
    "    tmax = 0.25\n",
    "    baseline_toffset = 0.01\n",
    "\n",
    "    trial0_blink_events = find_eog_events(blinking[0], ch_name=find_eog_ch, filter_length=2561)    # Match filter length to length of signal\n",
    "    trial1_blink_events = find_eog_events(blinking[1], ch_name=find_eog_ch, filter_length=2560)\n",
    "    \n",
    "    filter_freqs = (1, None)\n",
    "    filter_props = dict(picks=['eeg'], fir_design='firwin', skip_by_annotation='edge')\n",
    "    trial0_blink_epochs = mne.Epochs(blinking[0], trial0_blink_events, tmin=tmin, tmax=tmax, baseline=(tmin, tmin+baseline_toffset), reject=None, preload=True).filter(*filter_freqs, **filter_props)\n",
    "    trial1_blink_epochs = mne.Epochs(blinking[1], trial1_blink_events, tmin=tmin, tmax=tmax, baseline=(tmin, tmin+baseline_toffset), reject=None, preload=True).filter(*filter_freqs, **filter_props)\n",
    "    # trial0_blink_epochs.plot(picks=picks);\n",
    "    # trial1_blink_epochs.plot(picks=picks);\n",
    "\n",
    "    blink_epochs = concatenate_epochs([trial0_blink_epochs, trial1_blink_epochs])\n",
    "    # blink_epochs.plot(picks=picks);\n",
    "\n",
    "    ica_blink = mne.preprocessing.ICA(n_components=n_ica_comps, random_state=ICA_SEED, max_iter=1000)\n",
    "    ica_blink.fit(blink_epochs)\n",
    "    # ica_blink.plot_components();\n",
    "    \n",
    "   \n",
    "    ############################################################\n",
    "    # \n",
    "    # Get Correlation map across MI/blinking ICA components\n",
    "    #\n",
    "    ############################################################\n",
    "    for i in range(n_template_ica_comps):   # ICA components are sorted by explained variange (R^2), so we only need to take the first few components\n",
    "        try:\n",
    "            corrmap([ica_joint], ica_blink.get_components()[:, i], label='test', show=False, plot=False, threshold=CORRMAP_THRESH)\n",
    "        except Exception as e:\n",
    "            print(e)\n",
    "    \n",
    "    print(ica_joint.labels_['test'])\n",
    "    ica_joint.plot_components(picks=ica_joint.labels_['test']);\n",
    "    exclude_ica_components[subj_n] = ica_joint.labels_['test']"
   ]
  },
  {
   "cell_type": "code",
   "execution_count": null,
   "metadata": {},
   "outputs": [],
   "source": [
    "print(exclude_ica_components)"
   ]
  },
  {
   "cell_type": "code",
   "execution_count": null,
   "metadata": {},
   "outputs": [],
   "source": [
    "import pickle as pkl\n",
    "    \n",
    "with open('ica_excludes_SEED-{}_THRESH-{}.pkl'.format(ICA_SEED, CORRMAP_THRESH), 'wb') as f:\n",
    "    pkl.dump(exclude_ica_components, f)"
   ]
  },
  {
   "cell_type": "code",
   "execution_count": 6,
   "metadata": {},
   "outputs": [
    {
     "ename": "FileNotFoundError",
     "evalue": "[Errno 2] No such file or directory: 'ica_excludes_SEED-97_THRESH-0.8.pkl'",
     "output_type": "error",
     "traceback": [
      "\u001b[0;31m---------------------------------------------------------------------------\u001b[0m",
      "\u001b[0;31mFileNotFoundError\u001b[0m                         Traceback (most recent call last)",
      "\u001b[0;32m<ipython-input-6-e130e0aa0edc>\u001b[0m in \u001b[0;36m<module>\u001b[0;34m\u001b[0m\n\u001b[1;32m      2\u001b[0m \u001b[0;34m\u001b[0m\u001b[0m\n\u001b[1;32m      3\u001b[0m \u001b[0;34m\u001b[0m\u001b[0m\n\u001b[0;32m----> 4\u001b[0;31m \u001b[0;32mwith\u001b[0m \u001b[0mopen\u001b[0m\u001b[0;34m(\u001b[0m\u001b[0;34m'ica_excludes_SEED-{}_THRESH-{}.pkl'\u001b[0m\u001b[0;34m.\u001b[0m\u001b[0mformat\u001b[0m\u001b[0;34m(\u001b[0m\u001b[0mICA_SEED\u001b[0m\u001b[0;34m,\u001b[0m \u001b[0mCORRMAP_THRESH\u001b[0m\u001b[0;34m)\u001b[0m\u001b[0;34m,\u001b[0m \u001b[0;34m'rb'\u001b[0m\u001b[0;34m)\u001b[0m \u001b[0;32mas\u001b[0m \u001b[0mf\u001b[0m\u001b[0;34m:\u001b[0m\u001b[0;34m\u001b[0m\u001b[0;34m\u001b[0m\u001b[0m\n\u001b[0m\u001b[1;32m      5\u001b[0m     \u001b[0m_exclude_ica_components\u001b[0m \u001b[0;34m=\u001b[0m \u001b[0mpkl\u001b[0m\u001b[0;34m.\u001b[0m\u001b[0mload\u001b[0m\u001b[0;34m(\u001b[0m\u001b[0mf\u001b[0m\u001b[0;34m)\u001b[0m\u001b[0;34m\u001b[0m\u001b[0;34m\u001b[0m\u001b[0m\n\u001b[1;32m      6\u001b[0m \u001b[0;34m\u001b[0m\u001b[0m\n",
      "\u001b[0;31mFileNotFoundError\u001b[0m: [Errno 2] No such file or directory: 'ica_excludes_SEED-97_THRESH-0.8.pkl'"
     ]
    }
   ],
   "source": [
    "import pickle as pkl\n",
    "\n",
    "\n",
    "with open('ica_excludes_SEED-{}_THRESH-{}.pkl'.format(ICA_SEED, CORRMAP_THRESH), 'rb') as f:\n",
    "    _exclude_ica_components = pkl.load(f)\n",
    "\n",
    "    "
   ]
  }
 ],
 "metadata": {
  "kernelspec": {
   "display_name": "Python 3",
   "language": "python",
   "name": "python3"
  },
  "language_info": {
   "codemirror_mode": {
    "name": "ipython",
    "version": 3
   },
   "file_extension": ".py",
   "mimetype": "text/x-python",
   "name": "python",
   "nbconvert_exporter": "python",
   "pygments_lexer": "ipython3",
   "version": "3.6.9"
  }
 },
 "nbformat": 4,
 "nbformat_minor": 4
}
