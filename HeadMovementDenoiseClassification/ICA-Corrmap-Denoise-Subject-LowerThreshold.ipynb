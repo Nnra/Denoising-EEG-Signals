{
 "cells": [
  {
   "cell_type": "code",
   "execution_count": 1,
   "metadata": {},
   "outputs": [],
   "source": [
    "import os\n",
    "import numpy as np\n",
    "import matplotlib.pyplot as plt\n",
    "import mne\n",
    "from mne.preprocessing import ICA\n",
    "from mne import concatenate_epochs\n",
    "from mne.preprocessing import find_eog_events\n",
    "from mne.preprocessing import corrmap\n",
    "import pickle as pkl\n",
    "\n",
    "from Cho2017 import SubjectData\n",
    "\n",
    "pickle_cache_dir = 'denoise_classify_data'\n",
    "subject_data_pickle_path = lambda n: os.path.join(pickle_cache_dir, 'data_{}.pkl'.format(n))\n",
    "subject_ica_pickle_path = lambda n: os.path.join(pickle_cache_dir, 'ica_{}.pkl'.format(n))\n",
    "\n",
    "\n",
    "plt.rcParams['figure.figsize'] = [12, 8]\n",
    "\n",
    "# # Make sure ipympl is installed (via pip) for interactive plots in Jupyter \n",
    "# %matplotlib widget"
   ]
  },
  {
   "cell_type": "code",
   "execution_count": 2,
   "metadata": {},
   "outputs": [],
   "source": [
    "ICA_SEED = 97 # Just some random seed\n",
    "CORRMAP_THRESH = 0.8\n",
    "n_ica_comps = 64\n",
    "n_template_ica_comps = 10"
   ]
  },
  {
   "cell_type": "code",
   "execution_count": 6,
   "metadata": {},
   "outputs": [
    {
     "name": "stdout",
     "output_type": "stream",
     "text": [
      "\n",
      "\n",
      "========================================\n",
      "Subject 18\n",
      "========================================\n"
     ]
    },
    {
     "ename": "NameError",
     "evalue": "name 'subject_datapickle_path' is not defined",
     "output_type": "error",
     "traceback": [
      "\u001b[0;31m---------------------------------------------------------------------------\u001b[0m",
      "\u001b[0;31mNameError\u001b[0m                                 Traceback (most recent call last)",
      "\u001b[0;32m<ipython-input-6-1d01781cc2db>\u001b[0m in \u001b[0;36m<module>\u001b[0;34m\u001b[0m\n\u001b[1;32m     12\u001b[0m         \u001b[0msubject\u001b[0m \u001b[0;34m=\u001b[0m \u001b[0mSubjectData\u001b[0m\u001b[0;34m(\u001b[0m\u001b[0;34m'../../../Data/mat_data/s{:02d}.mat'\u001b[0m\u001b[0;34m.\u001b[0m\u001b[0mformat\u001b[0m\u001b[0;34m(\u001b[0m\u001b[0msubj_n\u001b[0m\u001b[0;34m)\u001b[0m\u001b[0;34m)\u001b[0m\u001b[0;34m\u001b[0m\u001b[0;34m\u001b[0m\u001b[0m\n\u001b[1;32m     13\u001b[0m         \u001b[0;32mwith\u001b[0m \u001b[0mopen\u001b[0m\u001b[0;34m(\u001b[0m\u001b[0msubject_data_pickle_path\u001b[0m\u001b[0;34m(\u001b[0m\u001b[0msubj_n\u001b[0m\u001b[0;34m)\u001b[0m\u001b[0;34m,\u001b[0m \u001b[0;34m'wb'\u001b[0m\u001b[0;34m)\u001b[0m \u001b[0;32mas\u001b[0m \u001b[0mf\u001b[0m\u001b[0;34m:\u001b[0m\u001b[0;34m\u001b[0m\u001b[0;34m\u001b[0m\u001b[0m\n\u001b[0;32m---> 14\u001b[0;31m             \u001b[0mprint\u001b[0m\u001b[0;34m(\u001b[0m\u001b[0;34m'Reading'\u001b[0m\u001b[0;34m,\u001b[0m \u001b[0msubject_datapickle_path\u001b[0m\u001b[0;34m(\u001b[0m\u001b[0msubj_n\u001b[0m\u001b[0;34m)\u001b[0m\u001b[0;34m)\u001b[0m\u001b[0;34m\u001b[0m\u001b[0;34m\u001b[0m\u001b[0m\n\u001b[0m\u001b[1;32m     15\u001b[0m             \u001b[0mpkl\u001b[0m\u001b[0;34m.\u001b[0m\u001b[0mdump\u001b[0m\u001b[0;34m(\u001b[0m\u001b[0msubject\u001b[0m\u001b[0;34m,\u001b[0m \u001b[0mf\u001b[0m\u001b[0;34m)\u001b[0m\u001b[0;34m\u001b[0m\u001b[0;34m\u001b[0m\u001b[0m\n\u001b[1;32m     16\u001b[0m \u001b[0;34m\u001b[0m\u001b[0m\n",
      "\u001b[0;31mNameError\u001b[0m: name 'subject_datapickle_path' is not defined"
     ]
    }
   ],
   "source": [
    "exclude_ica_components = {}\n",
    "\n",
    "for subj_n in subjects:\n",
    "    print(\"\\n\\n========================================\")\n",
    "    print('Subject {:02d}'.format(subj_n))\n",
    "    print(\"========================================\")\n",
    "    if os.path.exists(subject_data_pickle_path(subj_n)):\n",
    "        with open(subject_data_pickle_path(subj_n), 'rb') as f:\n",
    "            print('Loading', subject_data_pickle_path(subj_n))\n",
    "            subject = pkl.load(f)\n",
    "    else:\n",
    "        subject = SubjectData('../../../Data/mat_data/s{:02d}.mat'.format(subj_n))\n",
    "        with open(subject_data_pickle_path(subj_n), 'wb') as f:\n",
    "            print('Reading', subject_datapickle_path(subj_n))\n",
    "            pkl.dump(subject, f)\n",
    "    \n",
    "    im_left_epochs = subject.get_epochs('imagery_left', tmin=-0.5, tmax=2, picks=['eeg'], filter_freqs=(1, None), reject_criteria=None, verbose=False)\n",
    "    im_right_epochs = subject.get_epochs('imagery_right', tmin=-0.5, tmax=2, picks=['eeg'], filter_freqs=(1, None), reject_criteria=None, verbose=False)\n",
    "    \n",
    "    \n",
    "    \n",
    "    ############################################################\n",
    "    # \n",
    "    # Get motor imagery ICA components \n",
    "    #\n",
    "    ############################################################\n",
    "    joint_im_epochs = mne.concatenate_epochs([im_left_epochs.copy(), im_right_epochs.copy()], add_offset=True)\n",
    "    labels = np.hstack((im_left_epochs.events[:, -1] - 1, im_right_epochs.events[:, -1]))  # Set left events to 0 to have 2 distinct class labels (left: 0 and right: 1)\n",
    "    \n",
    "    if os.path.exists(subject_ica_pickle_path(subj_n)):\n",
    "        with open(subject_ica_pickle_path(subj_n), 'rb') as f:\n",
    "            print('Loading', subject_ica_pickle_path(subj_n))\n",
    "            ica_joint = pkl.load(f)\n",
    "    else:\n",
    "        ica_joint = mne.preprocessing.ICA(n_components=n_ica_comps, random_state=ICA_SEED, max_iter=1000)\n",
    "        ica_joint.fit(joint_im_epochs)\n",
    "        with open(subject_ica_pickle_path(subj_n), 'wb') as f:\n",
    "            print('Writing', subject_ica_pickle_path(subj_n))\n",
    "            pkl.dump(ica_joint, f)\n",
    "\n",
    "    \n",
    "    # ica_joint.plot_components();\n",
    "    \n",
    "    \n",
    "    ############################################################\n",
    "    # \n",
    "    # Get blinking artifact ICA components \n",
    "    #\n",
    "    ############################################################\n",
    "    picks = ['FP1', 'FPZ', 'FP2', 'F3', 'F4'] # None / ['eeg'] for first 20 channels or list of channel names for those specified channels\n",
    "\n",
    "    # Since blinking is performed in 2x 5s trials, it's possible the discontinuity at the trial boundary may be falsely marked as an EOG\n",
    "    blinking = [subject.raw_noise['blinking'].copy().crop(tmin=0, tmax=5), subject.raw_noise['blinking'].copy().crop(tmin=5, tmax=None)]\n",
    "    # blinking[0].copy().pick(picks).plot();\n",
    "    # blinking[1].copy().pick(picks).plot();\n",
    "\n",
    "    find_eog_ch = 'FP1'\n",
    "    tmin = -0.25\n",
    "    tmax = 0.25\n",
    "    baseline_toffset = 0.01\n",
    "\n",
    "    trial0_blink_events = find_eog_events(blinking[0], ch_name=find_eog_ch, filter_length=2561)    # Match filter length to length of signal\n",
    "    trial1_blink_events = find_eog_events(blinking[1], ch_name=find_eog_ch, filter_length=2560)\n",
    "    \n",
    "    filter_freqs = (1, None)\n",
    "    filter_props = dict(picks=['eeg'], fir_design='firwin', skip_by_annotation='edge')\n",
    "    trial0_blink_epochs = mne.Epochs(blinking[0], trial0_blink_events, tmin=tmin, tmax=tmax, baseline=(tmin, tmin+baseline_toffset), reject=None, preload=True).filter(*filter_freqs, **filter_props)\n",
    "    trial1_blink_epochs = mne.Epochs(blinking[1], trial1_blink_events, tmin=tmin, tmax=tmax, baseline=(tmin, tmin+baseline_toffset), reject=None, preload=True).filter(*filter_freqs, **filter_props)\n",
    "    # trial0_blink_epochs.plot(picks=picks);\n",
    "    # trial1_blink_epochs.plot(picks=picks);\n",
    "\n",
    "    blink_epochs = concatenate_epochs([trial0_blink_epochs, trial1_blink_epochs])\n",
    "    # blink_epochs.plot(picks=picks);\n",
    "\n",
    "    ica_blink = mne.preprocessing.ICA(n_components=n_ica_comps, random_state=ICA_SEED, max_iter=1000)\n",
    "    ica_blink.fit(blink_epochs)\n",
    "    # ica_blink.plot_components();\n",
    "    \n",
    "   \n",
    "    ############################################################\n",
    "    # \n",
    "    # Get Correlation map across MI/blinking ICA components\n",
    "    #\n",
    "    ############################################################\n",
    "    for i in range(n_template_ica_comps):   # ICA components are sorted by explained variange (R^2), so we only need to take the first few components\n",
    "        try:\n",
    "            corrmap([ica_joint], ica_blink.get_components()[:, i], label='test', show=False, plot=False, threshold=CORRMAP_THRESH)\n",
    "        except Exception as e:\n",
    "            print(e)\n",
    "    \n",
    "    print(ica_joint.labels_['test'])\n",
    "    ica_joint.plot_components(picks=ica_joint.labels_['test']);\n",
    "    exclude_ica_components[subj_n] = ica_joint.labels_['test']"
   ]
  },
  {
   "cell_type": "code",
   "execution_count": 4,
   "metadata": {},
   "outputs": [
    {
     "name": "stdout",
     "output_type": "stream",
     "text": [
      "{49: [0, 3], 50: [0, 12], 51: [0], 52: [0, 3]}\n"
     ]
    }
   ],
   "source": [
    "print(exclude_ica_components)"
   ]
  },
  {
   "cell_type": "code",
   "execution_count": 5,
   "metadata": {},
   "outputs": [],
   "source": [
    "import pickle as pkl\n",
    "\n",
    "with open('blinking-ica_excludes_SEED-{}_THRESH-{}.pkl'.format(ICA_SEED, CORRMAP_THRESH), 'wb') as f:\n",
    "    pkl.dump(exclude_ica_components, f)"
   ]
  },
  {
   "cell_type": "code",
   "execution_count": 6,
   "metadata": {},
   "outputs": [],
   "source": [
    "with open('blinking-ica_excludes_SEED-{}_THRESH-{}.pkl'.format(ICA_SEED, 0.9), 'rb') as f:\n",
    "    _exclude_ica_components = pkl.load(f)\n",
    "\n",
    "exclude_ica_components = {**_exclude_ica_components, **exclude_ica_components}\n",
    "\n",
    "with open('blinking-ica_excludes_SEED-{}.pkl'.format(ICA_SEED, CORRMAP_THRESH), 'wb') as f:\n",
    "    pkl.dump(exclude_ica_components, f)\n"
   ]
  },
  {
   "cell_type": "code",
   "execution_count": 8,
   "metadata": {},
   "outputs": [
    {
     "name": "stdout",
     "output_type": "stream",
     "text": [
      "{1: [0], 2: [0, 2], 3: [0], 4: [1], 5: [0, 32, 2, 5, 6, 9, 43, 11, 14, 15, 16, 17, 18, 23, 57, 29], 6: [1, 2, 3, 4, 5, 6, 7, 8, 9, 11, 13, 14, 16, 18, 20, 27, 29, 31, 32, 34, 36], 7: [0], 8: [0], 9: [0, 1], 10: [4], 11: [0], 12: [3], 13: [0, 12], 14: [0], 15: [0], 16: [0], 17: [0], 18: [0], 19: [0], 20: [3], 21: [4], 22: [0], 23: [0], 24: [0], 25: [0, 1, 2, 13, 27], 26: [0], 27: [0], 28: [0], 29: [0], 30: [0], 31: [1], 32: [0], 33: [0, 1, 3, 4, 7, 9, 10, 11, 12, 14, 15, 17, 18, 19, 20, 24, 27, 31, 33, 35, 36, 39, 42, 46, 52, 54], 34: [1], 35: [0, 11], 36: [0], 37: [0, 26], 38: [0], 39: [0], 40: [0], 41: [0], 42: [0], 43: [0, 3, 14], 44: [0], 45: [0], 46: [1], 47: [0, 9, 2], 48: [0], 49: [0, 3], 50: [0, 12], 51: [0], 52: [0, 3]}\n"
     ]
    }
   ],
   "source": [
    "print(exclude_ica_components)"
   ]
  }
 ],
 "metadata": {
  "kernelspec": {
   "display_name": "Python 3",
   "language": "python",
   "name": "python3"
  },
  "language_info": {
   "codemirror_mode": {
    "name": "ipython",
    "version": 3
   },
   "file_extension": ".py",
   "mimetype": "text/x-python",
   "name": "python",
   "nbconvert_exporter": "python",
   "pygments_lexer": "ipython3",
   "version": "3.7.4"
  }
 },
 "nbformat": 4,
 "nbformat_minor": 4
}
