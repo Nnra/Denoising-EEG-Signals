{
 "cells": [
  {
   "cell_type": "code",
   "execution_count": null,
   "metadata": {},
   "outputs": [],
   "source": [
    "import os\n",
    "import numpy as np\n",
    "import matplotlib.pyplot as plt\n",
    "import mne\n",
    "from mne.preprocessing import ICA\n",
    "\n",
    "from Cho2017 import SubjectData\n",
    "\n",
    "\n",
    "plt.rcParams['figure.figsize'] = [12, 8]\n",
    "\n",
    "# # Make sure ipympl is installed (via pip) for interactive plots in Jupyter \n",
    "# %matplotlib widget"
   ]
  },
  {
   "cell_type": "code",
   "execution_count": null,
   "metadata": {},
   "outputs": [],
   "source": [
    "subject = SubjectData('../Data/mat_data/s01.mat')"
   ]
  },
  {
   "cell_type": "code",
   "execution_count": null,
   "metadata": {},
   "outputs": [],
   "source": [
    "rej = {'eeg': 150e-6}\n",
    "\n",
    "im_left_epochs = subject.get_epochs('imagery_left', tmin=-0.5, tmax=2, picks=['eeg'], reject_criteria=rej, verbose=False)\n",
    "im_right_epochs = subject.get_epochs('imagery_right', tmin=-0.5, tmax=2, picks=['eeg'], reject_criteria=rej, verbose=False)"
   ]
  },
  {
   "cell_type": "code",
   "execution_count": null,
   "metadata": {
    "scrolled": false
   },
   "outputs": [],
   "source": [
    "n_ica_comps = 64\n",
    "ica = mne.preprocessing.ICA(n_components=n_ica_comps, random_state=97, max_iter=1000)\n",
    "ica.fit(im_left_epochs)\n",
    "# ica.plot_sources(im_left_epochs);\n",
    "ica.plot_components();\n",
    "# ica.plot_properties(im_left_epochs);"
   ]
  },
  {
   "cell_type": "code",
   "execution_count": null,
   "metadata": {
    "scrolled": false
   },
   "outputs": [],
   "source": [
    "ica.plot_properties(im_left_epochs);"
   ]
  },
  {
   "cell_type": "code",
   "execution_count": null,
   "metadata": {},
   "outputs": [],
   "source": [
    "left_keep_comps = list(range(63))\n",
    "ignore_comps = ignore_comps = list(filter(lambda i: i not in left_keep_comps, list(range(n_ica_comps))))\n",
    "denoised_im_left_epochs = im_left_epochs.copy()\n",
    "ica.apply(denoised_im_left_epochs, exclude=ignore_comps)"
   ]
  },
  {
   "cell_type": "code",
   "execution_count": null,
   "metadata": {},
   "outputs": [],
   "source": [
    "# ica = mne.preprocessing.ICA(n_components=n_ica_comps, random_state=97, max_iter=1000)\n",
    "# ica.fit(im_right_epochs)\n",
    "# ica.plot_components();"
   ]
  },
  {
   "cell_type": "code",
   "execution_count": null,
   "metadata": {},
   "outputs": [],
   "source": [
    "# right_keep_comps = [0, 1, 2, 4]\n",
    "right_keep_comps = left_keep_comps\n",
    "# ignore_comps = list(filter(lambda i: i not in right_keep_comps, list(range(n_ica_comps))))\n",
    "denoised_im_right_epochs = im_right_epochs.copy()\n",
    "ica.apply(denoised_im_right_epochs, exclude=ignore_comps)"
   ]
  },
  {
   "cell_type": "code",
   "execution_count": null,
   "metadata": {},
   "outputs": [],
   "source": [
    "from sklearn import datasets\n",
    "from sklearn.discriminant_analysis import LinearDiscriminantAnalysis\n",
    "from sklearn.model_selection import ShuffleSplit, cross_val_score\n",
    "from sklearn.pipeline import Pipeline\n",
    "\n",
    "from mne.decoding import CSP"
   ]
  },
  {
   "cell_type": "code",
   "execution_count": null,
   "metadata": {},
   "outputs": [],
   "source": [
    "assert len(left_keep_comps) == len(right_keep_comps)\n",
    "\n",
    "data = np.vstack((denoised_im_left_epochs.get_data(), denoised_im_right_epochs.get_data()))\n",
    "# # Alternatively can try with ICA un-mixed sources rather than the denoised signal\n",
    "source_left = ica.get_sources(im_left_epochs, start=0.5, stop=2.5)\n",
    "source_right = ica.get_sources(im_right_epochs, start=0.5, stop=2.5)\n",
    "data = np.vstack((source_right.get_data()[:, left_keep_comps, :], source_left.get_data()[:, right_keep_comps, :]))\n",
    "\n",
    "labels = np.hstack((im_left_epochs.events[:, -1] - 1, im_right_epochs.events[:, -1]))  # Set left events to 0 to have 2 distinct class labels (left: 0 and right: 1)"
   ]
  },
  {
   "cell_type": "code",
   "execution_count": null,
   "metadata": {},
   "outputs": [],
   "source": [
    "data.shape"
   ]
  },
  {
   "cell_type": "code",
   "execution_count": null,
   "metadata": {},
   "outputs": [],
   "source": [
    "scores = []\n",
    "cv = ShuffleSplit(10, test_size=0.25, random_state=42)\n",
    "cv_split = cv.split(data)"
   ]
  },
  {
   "cell_type": "code",
   "execution_count": null,
   "metadata": {},
   "outputs": [],
   "source": [
    "csp = CSP(n_components=2, reg=None, log=False, norm_trace=False)   # Cho 2017 uses 2 components\n",
    "lda = LinearDiscriminantAnalysis()\n",
    "\n",
    "clf = Pipeline([('CSP', csp), ('LDA', lda)])\n",
    "scores = cross_val_score(clf, data, labels, cv=cv, n_jobs=8, error_score='raise')"
   ]
  },
  {
   "cell_type": "code",
   "execution_count": null,
   "metadata": {},
   "outputs": [],
   "source": [
    "class_balance = np.mean(labels == labels[0])\n",
    "class_balance = max(class_balance, 1. - class_balance)\n",
    "print(\"Classification accuracy: %f / Chance level: %f\" % (np.mean(scores),\n",
    "                                                          class_balance))"
   ]
  },
  {
   "cell_type": "code",
   "execution_count": null,
   "metadata": {},
   "outputs": [],
   "source": [
    "print(data.shape)\n",
    "print(labels.shape, labels)\n",
    "print(scores)"
   ]
  },
  {
   "cell_type": "code",
   "execution_count": null,
   "metadata": {},
   "outputs": [],
   "source": [
    "plt.imshow(data[3], aspect='auto')"
   ]
  },
  {
   "cell_type": "code",
   "execution_count": null,
   "metadata": {},
   "outputs": [],
   "source": [
    "plt.imshow(data[-3], aspect='auto')"
   ]
  },
  {
   "cell_type": "markdown",
   "metadata": {},
   "source": [
    "# Left/Right Joint Denoising"
   ]
  },
  {
   "cell_type": "code",
   "execution_count": null,
   "metadata": {
    "jupyter": {
     "outputs_hidden": true,
     "source_hidden": true
    },
    "scrolled": false
   },
   "outputs": [],
   "source": [
    "joint_im_epochs = mne.concatenate_epochs([im_left_epochs.copy(), im_right_epochs.copy()], add_offset=True)\n",
    "labels = np.hstack((im_left_epochs.events[:, -1] - 1, im_right_epochs.events[:, -1]))  # Set left events to 0 to have 2 distinct class labels (left: 0 and right: 1)\n",
    "ica = mne.preprocessing.ICA(n_components=n_ica_comps, random_state=97, max_iter=1000)\n",
    "ica.fit(joint_im_epochs)\n",
    "ica.plot_components();"
   ]
  },
  {
   "cell_type": "code",
   "execution_count": null,
   "metadata": {
    "jupyter": {
     "outputs_hidden": true,
     "source_hidden": true
    }
   },
   "outputs": [],
   "source": [
    "joint_keep_comps = [0, 2]\n",
    "ignore_comps = list(filter(lambda i: i not in joint_keep_comps, list(range(n_ica_comps))))\n",
    "denoised_joint_im_epochs = joint_im_epochs.copy()\n",
    "ica.apply(denoised_joint_im_epochs, exclude=ignore_comps)"
   ]
  },
  {
   "cell_type": "code",
   "execution_count": null,
   "metadata": {
    "jupyter": {
     "source_hidden": true
    }
   },
   "outputs": [],
   "source": [
    "data = ica.get_sources(denoised_joint_im_epochs, start=0.5, stop=2.5).get_data()\n",
    "# data = denoised_joint_im_epochs.get_data()"
   ]
  },
  {
   "cell_type": "code",
   "execution_count": null,
   "metadata": {
    "jupyter": {
     "outputs_hidden": true,
     "source_hidden": true
    }
   },
   "outputs": [],
   "source": [
    "scores = []\n",
    "cv = ShuffleSplit(10, test_size=0.25, random_state=42)\n",
    "cv_split = cv.split(data)\n",
    "\n",
    "csp = CSP(n_components=2, reg=None, log=False, norm_trace=False)   # Cho 2017 uses 2 components\n",
    "lda = LinearDiscriminantAnalysis()\n",
    "\n",
    "clf = Pipeline([('CSP', csp), ('LDA', lda)])\n",
    "scores = cross_val_score(clf, data, labels, cv=cv, n_jobs=8, error_score='raise')\n",
    "\n",
    "class_balance = np.mean(labels == labels[0])\n",
    "class_balance = max(class_balance, 1. - class_balance)\n",
    "print(\"Classification accuracy: %f / Chance level: %f\" % (np.mean(scores),\n",
    "                                                          class_balance))"
   ]
  },
  {
   "cell_type": "code",
   "execution_count": null,
   "metadata": {
    "jupyter": {
     "source_hidden": true
    }
   },
   "outputs": [],
   "source": [
    "print(data.shape)\n",
    "print(labels.shape, labels)\n",
    "print(scores)"
   ]
  },
  {
   "cell_type": "code",
   "execution_count": null,
   "metadata": {
    "jupyter": {
     "source_hidden": true
    }
   },
   "outputs": [],
   "source": [
    "plt.imshow(data[3], aspect='auto')"
   ]
  },
  {
   "cell_type": "code",
   "execution_count": null,
   "metadata": {
    "jupyter": {
     "source_hidden": true
    }
   },
   "outputs": [],
   "source": [
    "plt.imshow(data[-3], aspect='auto')"
   ]
  },
  {
   "cell_type": "markdown",
   "metadata": {},
   "source": [
    "## Applying Corrmap from noise trial and the MI trials to find bad components"
   ]
  },
  {
   "cell_type": "markdown",
   "metadata": {},
   "source": [
    "## blinking"
   ]
  },
  {
   "cell_type": "code",
   "execution_count": null,
   "metadata": {
    "scrolled": true
   },
   "outputs": [],
   "source": [
    "picks = ['FP1', 'FPZ', 'FP2', 'F3', 'F4'] # None / ['eeg'] for first 20 channels or list of channel names for those specified channels\n",
    "\n",
    "# Since blinking is performed in 2x 5s trials, it's possible the discontinuity at the trial boundary may be falsely marked as an EOG\n",
    "blinking = [subject.raw_noise['blinking'].copy().crop(tmin=0, tmax=5), subject.raw_noise['blinking'].copy().crop(tmin=5, tmax=None)]\n",
    "blinking[0].copy().pick(picks).plot();\n",
    "blinking[1].copy().pick(picks).plot();\n",
    "\n",
    "from mne import concatenate_epochs\n",
    "from mne.preprocessing import find_eog_events\n",
    "find_eog_ch = 'FP1'\n",
    "tmin = -0.25\n",
    "tmax = 0.25\n",
    "baseline_toffset = 0.01\n",
    "\n",
    "trial0_blink_events = find_eog_events(blinking[0], ch_name=find_eog_ch, filter_length=2561)    # Match filter length to length of signal\n",
    "trial1_blink_events = find_eog_events(blinking[1], ch_name=find_eog_ch, filter_length=2560)\n",
    "\n",
    "trial0_blink_epochs = mne.Epochs(blinking[0], trial0_blink_events, tmin=tmin, tmax=tmax, baseline=(tmin, tmin+baseline_toffset), reject=None, preload=True)\n",
    "trial1_blink_epochs = mne.Epochs(blinking[1], trial1_blink_events, tmin=tmin, tmax=tmax, baseline=(tmin, tmin+baseline_toffset), reject=None, preload=True)\n",
    "# trial0_blink_epochs.plot(picks=picks);\n",
    "# trial1_blink_epochs.plot(picks=picks);\n",
    "\n",
    "blink_epochs = concatenate_epochs([trial0_blink_epochs, trial1_blink_epochs])\n",
    "blink_epochs.plot(picks=picks);\n",
    "\n",
    "ica_blink = mne.preprocessing.ICA(n_components=n_ica_comps, random_state=97, max_iter=1000)\n",
    "ica_blink.fit(blink_epochs)"
   ]
  },
  {
   "cell_type": "code",
   "execution_count": null,
   "metadata": {
    "scrolled": true
   },
   "outputs": [],
   "source": [
    "from mne.preprocessing import corrmap\n",
    "\n",
    "ica_excludes = [15, 23, 24, 27, 28, 35, 36, 37, 39, 41, 42, 43 , 45, 46, 48, 50, 51, 54, 55, 56, 57, 58, 59, 60, 61, 63]\n",
    "\n",
    "for i in range(63):\n",
    "    if i not in ica_excludes:\n",
    "        corrmap([ica, ica_blink], (1, i), label='test');"
   ]
  },
  {
   "cell_type": "code",
   "execution_count": null,
   "metadata": {},
   "outputs": [],
   "source": [
    "ica.labels_['test']"
   ]
  },
  {
   "cell_type": "markdown",
   "metadata": {},
   "source": [
    "### eye_up-down"
   ]
  },
  {
   "cell_type": "code",
   "execution_count": null,
   "metadata": {},
   "outputs": [],
   "source": [
    "picks = ['FP1', 'FPZ', 'FP2', 'F3', 'F4'] # None / ['eeg'] for first 20 channels or list of channel names for those specified channels\n",
    "\n",
    "# Since blinking is performed in 2x 5s trials, it's possible the discontinuity at the trial boundary may be falsely marked as an EOG\n",
    "eye_up_down = [subject.raw_noise['eye_up-down'].copy().crop(tmin=0, tmax=5), subject.raw_noise['eye_up-down'].copy().crop(tmin=5, tmax=None)]\n",
    "eye_up_down[0].copy().pick(picks).plot();\n",
    "eye_up_down[1].copy().pick(picks).plot();\n",
    "\n",
    "from mne import concatenate_epochs\n",
    "from mne.preprocessing import find_eog_events\n",
    "find_eog_ch = 'FP1'\n",
    "tmin = -0.25\n",
    "tmax = 0.25\n",
    "baseline_toffset = 0.01\n",
    "\n",
    "trial0_eye_up_down_events = find_eog_events(eye_up_down[0], ch_name=find_eog_ch, filter_length=2561)    # Match filter length to length of signal\n",
    "trial1_eye_up_down_events = find_eog_events(eye_up_down[1], ch_name=find_eog_ch, filter_length=2560)\n",
    "\n",
    "trial0_eye_up_down_epochs = mne.Epochs(eye_up_down[0], trial0_eye_up_down_events, tmin=tmin, tmax=tmax, baseline=(tmin, tmin+baseline_toffset), reject=None, preload=True)\n",
    "trial1_eye_up_down_epochs = mne.Epochs(eye_up_down[1], trial1_eye_up_down_events, tmin=tmin, tmax=tmax, baseline=(tmin, tmin+baseline_toffset), reject=None, preload=True)\n",
    "# trial0_eye_up_down_epochs.plot(picks=picks);\n",
    "\n",
    "eye_up_down_epochs = concatenate_epochs([trial0_eye_up_down_epochs, trial1_eye_up_down_epochs])\n",
    "eye_up_down_epochs.plot(picks=picks);\n",
    "\n",
    "from mne.preprocessing import ICA\n",
    "\n",
    "n_ica_comps = 64\n",
    "ica_eye_up_down = mne.preprocessing.ICA(n_components=n_ica_comps, random_state=97, max_iter=1000)\n",
    "ica_eye_up_down.fit(eye_up_down_epochs)\n",
    "# ica_eye_up_down.plot_sources(eye_up_down_epochs);\n",
    "# ica_eye_up_down.plot_components();"
   ]
  },
  {
   "cell_type": "code",
   "execution_count": null,
   "metadata": {
    "scrolled": true
   },
   "outputs": [],
   "source": [
    "from mne.preprocessing import corrmap\n",
    "\n",
    "# eye_up_down\n",
    "ica_eye_up_down_excludes = [16, 23, 26, 27, 28, 29, 30, 31, 37, 41, 42, 44, 47, 48, 51, 52, 54, 55, 57, 58, 59, 60, 61,62, 63]\n",
    "\n",
    "for i in range(63):\n",
    "    if i not in ica_eye_up_down_excludes:\n",
    "        corrmap([ica, ica_eye_up_down], (1, i), label='test_eye_up_down');"
   ]
  },
  {
   "cell_type": "code",
   "execution_count": null,
   "metadata": {},
   "outputs": [],
   "source": [
    "ica.labels_['test_eye_up_down']"
   ]
  },
  {
   "cell_type": "markdown",
   "metadata": {},
   "source": [
    "### eye_left-right"
   ]
  },
  {
   "cell_type": "code",
   "execution_count": null,
   "metadata": {},
   "outputs": [],
   "source": [
    "picks = ['FP1', 'FPZ', 'FP2', 'F3', 'F4'] # None / ['eeg'] for first 20 channels or list of channel names for those specified channels\n",
    "\n",
    "# Since blinking is performed in 2x 5s trials, it's possible the discontinuity at the trial boundary may be falsely marked as an EOG\n",
    "eye_left_right = [subject.raw_noise['eye_left-right'].copy().crop(tmin=0, tmax=5), subject.raw_noise['eye_left-right'].copy().crop(tmin=5, tmax=None)]\n",
    "eye_left_right[0].copy().pick(picks).plot();\n",
    "eye_left_right[1].copy().pick(picks).plot();\n",
    "\n",
    "from mne import concatenate_epochs\n",
    "from mne.preprocessing import find_eog_events\n",
    "find_eog_ch = 'FP1'\n",
    "tmin = -0.25\n",
    "tmax = 0.25\n",
    "baseline_toffset = 0.01\n",
    "\n",
    "trial0_eye_left_right_events = find_eog_events(eye_left_right[0], ch_name=find_eog_ch, filter_length=2561)    # Match filter length to length of signal\n",
    "trial1_eye_left_right_events = find_eog_events(eye_left_right[1], ch_name=find_eog_ch, filter_length=2560)\n",
    "\n",
    "trial0_eye_left_right_epochs = mne.Epochs(eye_left_right[0], trial0_eye_left_right_events, tmin=tmin, tmax=tmax, baseline=(tmin, tmin+baseline_toffset), reject=None, preload=True)\n",
    "trial1_eye_left_right_epochs = mne.Epochs(eye_left_right[1], trial1_eye_left_right_events, tmin=tmin, tmax=tmax, baseline=(tmin, tmin+baseline_toffset), reject=None, preload=True)\n",
    "# trial0_eye_up_down_epochs.plot(picks=picks);\n",
    "\n",
    "eye_left_right_epochs = concatenate_epochs([trial0_eye_left_right_epochs, trial1_eye_left_right_epochs])\n",
    "eye_left_right_epochs.plot(picks=picks);\n",
    "\n",
    "from mne.preprocessing import ICA\n",
    "\n",
    "n_ica_comps = 64\n",
    "ica_eye_left_right = mne.preprocessing.ICA(n_components=n_ica_comps, random_state=97, max_iter=1000)\n",
    "ica_eye_left_right.fit(eye_left_right_epochs)\n",
    "# ica_eye_left_right.plot_sources(eye_left_right_epochs);\n",
    "# ica_eye_left_right.plot_components();"
   ]
  },
  {
   "cell_type": "code",
   "execution_count": null,
   "metadata": {},
   "outputs": [],
   "source": [
    "from mne.preprocessing import corrmap\n",
    "# eye_left_right\n",
    "ica_eye_left_right_excludes = [20, 23, 27, 28, 32, 33, 34, 36, 45, 46, 47, 48, 49, 50, 51, 52, 53, 54, 55, 56, 57, 58, 59, 60, 61, 62, 63]\n",
    "\n",
    "for i in range(63):\n",
    "    if i not in ica_eye_left_right_excludes:\n",
    "        corrmap([ica, ica_eye_left_right], (1, i), label='test_eye_left_right');"
   ]
  },
  {
   "cell_type": "code",
   "execution_count": null,
   "metadata": {},
   "outputs": [],
   "source": [
    "ica.labels_['test_eye_left_right']"
   ]
  },
  {
   "cell_type": "code",
   "execution_count": null,
   "metadata": {},
   "outputs": [],
   "source": []
  },
  {
   "cell_type": "markdown",
   "metadata": {},
   "source": [
    "### jaw"
   ]
  },
  {
   "cell_type": "code",
   "execution_count": null,
   "metadata": {},
   "outputs": [],
   "source": [
    "picks = ['FP1', 'FPZ', 'FP2', 'F3', 'F4'] # None / ['eeg'] for first 20 channels or list of channel names for those specified channels\n",
    "\n",
    "# Since blinking is performed in 2x 5s trials, it's possible the discontinuity at the trial boundary may be falsely marked as an EOG\n",
    "jaw = [subject.raw_noise['jaw'].copy().crop(tmin=0, tmax=5), subject.raw_noise['jaw'].copy().crop(tmin=5, tmax=None)]\n",
    "jaw[0].copy().pick(picks).plot();\n",
    "jaw[1].copy().pick(picks).plot();\n",
    "\n",
    "from mne import concatenate_epochs\n",
    "from mne.preprocessing import find_eog_events\n",
    "find_eog_ch = 'FP1'\n",
    "tmin = -0.25\n",
    "tmax = 0.25\n",
    "baseline_toffset = 0.01\n",
    "\n",
    "trial0_jaw_events = find_eog_events(jaw[0], ch_name=find_eog_ch, filter_length=2561)    # Match filter length to length of signal\n",
    "trial1_jaw_events = find_eog_events(jaw[1], ch_name=find_eog_ch, filter_length=2560)\n",
    "\n",
    "trial0_jaw_epochs = mne.Epochs(jaw[0], trial0_jaw_events, tmin=tmin, tmax=tmax, baseline=(tmin, tmin+baseline_toffset), reject=None, preload=True)\n",
    "trial1_jaw_epochs = mne.Epochs(jaw[1], trial1_jaw_events, tmin=tmin, tmax=tmax, baseline=(tmin, tmin+baseline_toffset), reject=None, preload=True)\n",
    "# trial0_eye_up_down_epochs.plot(picks=picks);\n",
    "\n",
    "jaw_epochs = concatenate_epochs([trial0_jaw_epochs, trial1_jaw_epochs])\n",
    "jaw_epochs.plot(picks=picks);\n",
    "\n",
    "from mne.preprocessing import ICA\n",
    "\n",
    "n_ica_comps = 64\n",
    "ica_jaw = mne.preprocessing.ICA(n_components=n_ica_comps, random_state=97, max_iter=1000)\n",
    "ica_jaw.fit(jaw_epochs)\n",
    "# ica_jaw.plot_sources(jaw_epochs);\n",
    "# ica_jaw.plot_components();"
   ]
  },
  {
   "cell_type": "code",
   "execution_count": null,
   "metadata": {},
   "outputs": [],
   "source": [
    "from mne.preprocessing import corrmap\n",
    "# jaw\n",
    "ica_jaw_excludes = [5, 6, 7, 11, 43, 44, 48, 49, 50, 55, 56, 57, 58, 59, 61, 62, 63]\n",
    "\n",
    "for i in range(63):\n",
    "    if i not in ica_jaw_excludes:\n",
    "        corrmap([ica, ica_jaw], (1, i), label='test_jaw');"
   ]
  },
  {
   "cell_type": "code",
   "execution_count": null,
   "metadata": {},
   "outputs": [],
   "source": [
    "ica.labels_['test_jaw']"
   ]
  },
  {
   "cell_type": "code",
   "execution_count": null,
   "metadata": {},
   "outputs": [],
   "source": []
  },
  {
   "cell_type": "markdown",
   "metadata": {},
   "source": [
    "### head_left-right"
   ]
  },
  {
   "cell_type": "code",
   "execution_count": null,
   "metadata": {},
   "outputs": [],
   "source": [
    "picks = ['FP1', 'FPZ', 'FP2', 'F3', 'F4'] # None / ['eeg'] for first 20 channels or list of channel names for those specified channels\n",
    "\n",
    "# Since blinking is performed in 2x 5s trials, it's possible the discontinuity at the trial boundary may be falsely marked as an EOG\n",
    "head_left_right = [subject.raw_noise['head_left-right'].copy().crop(tmin=0, tmax=5), subject.raw_noise['head_left-right'].copy().crop(tmin=5, tmax=None)]\n",
    "head_left_right[0].copy().pick(picks).plot();\n",
    "head_left_right[1].copy().pick(picks).plot();\n",
    "\n",
    "from mne import concatenate_epochs\n",
    "from mne.preprocessing import find_eog_events\n",
    "find_eog_ch = 'FP1'\n",
    "tmin = -0.25\n",
    "tmax = 0.25\n",
    "baseline_toffset = 0.01\n",
    "\n",
    "trial0_head_left_right_events = find_eog_events(head_left_right[0], ch_name=find_eog_ch, filter_length=2561)    # Match filter length to length of signal\n",
    "trial1_head_left_right_events = find_eog_events(head_left_right[1], ch_name=find_eog_ch, filter_length=2560)\n",
    "\n",
    "trial0_head_left_right_epochs = mne.Epochs(head_left_right[0], trial0_head_left_right_events, tmin=tmin, tmax=tmax, baseline=(tmin, tmin+baseline_toffset), reject=None, preload=True)\n",
    "trial1_head_left_right_epochs = mne.Epochs(head_left_right[1], trial1_head_left_right_events, tmin=tmin, tmax=tmax, baseline=(tmin, tmin+baseline_toffset), reject=None, preload=True)\n",
    "# trial0_eye_up_down_epochs.plot(picks=picks);\n",
    "\n",
    "head_left_right_epochs = concatenate_epochs([trial0_head_left_right_epochs, trial1_head_left_right_epochs])\n",
    "head_left_right_epochs.plot(picks=picks);\n",
    "\n",
    "from mne.preprocessing import ICA\n",
    "\n",
    "n_ica_comps = 64\n",
    "ica_head_left_right = mne.preprocessing.ICA(n_components=n_ica_comps, random_state=97, max_iter=1000)\n",
    "ica_head_left_right.fit(head_left_right_epochs)\n",
    "# ica_head_left_right.plot_sources(head_left_right_epochs);\n",
    "# ica_head_left_right.plot_components();"
   ]
  },
  {
   "cell_type": "code",
   "execution_count": null,
   "metadata": {},
   "outputs": [],
   "source": [
    "from mne.preprocessing import corrmap\n",
    "# head_left_right\n",
    "ica_head_left_right_excludes = [6, 7, 10, 11, 13, 15, 17, 18, 21, 23, 26, 29, 32, 33, 39, 42, 45, 48, 49, 53, 54, 57, 58, 60, 61, 62, 63]\n",
    "\n",
    "for i in range(63):\n",
    "    if i not in ica_head_left_right_excludes:\n",
    "        corrmap([ica, ica_head_left_right], (1, i), label='test_head_left_right');"
   ]
  },
  {
   "cell_type": "code",
   "execution_count": null,
   "metadata": {},
   "outputs": [],
   "source": [
    "ica.labels_['test_head_left_right']"
   ]
  },
  {
   "cell_type": "code",
   "execution_count": null,
   "metadata": {},
   "outputs": [],
   "source": []
  }
 ],
 "metadata": {
  "kernelspec": {
   "display_name": "Python 3",
   "language": "python",
   "name": "python3"
  },
  "language_info": {
   "codemirror_mode": {
    "name": "ipython",
    "version": 3
   },
   "file_extension": ".py",
   "mimetype": "text/x-python",
   "name": "python",
   "nbconvert_exporter": "python",
   "pygments_lexer": "ipython3",
   "version": "3.7.4"
  }
 },
 "nbformat": 4,
 "nbformat_minor": 4
}
